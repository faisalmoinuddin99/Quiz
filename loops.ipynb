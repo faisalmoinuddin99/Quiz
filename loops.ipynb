{
 "cells": [
  {
   "cell_type": "code",
   "execution_count": 5,
   "metadata": {},
   "outputs": [
    {
     "name": "stdout",
     "output_type": "stream",
     "text": [
      "{'faisal': 12, 'hitesh': 10, 'ram': 34}\n",
      "faisal\n",
      "hitesh\n",
      "ram\n"
     ]
    }
   ],
   "source": [
    "list1 = [[\"faisal\",12],[\"hitesh\",10],[\"ram\",34]]\n",
    "dict1 = dict(list1)\n",
    "print(dict1)\n",
    "\n",
    "for item in dict1.keys():\n",
    "    print(item)"
   ]
  },
  {
   "cell_type": "code",
   "execution_count": 14,
   "metadata": {},
   "outputs": [
    {
     "name": "stdout",
     "output_type": "stream",
     "text": [
      "1 2 3 4 5 6 5\n"
     ]
    }
   ],
   "source": [
    "i = 0\n",
    "while(1):\n",
    "    print(i+1,end=\" \")\n",
    "    if i== 5:\n",
    "        break\n",
    "    i = i + 1   \n",
    "print(i)"
   ]
  },
  {
   "cell_type": "code",
   "execution_count": 16,
   "metadata": {},
   "outputs": [
    {
     "name": "stdout",
     "output_type": "stream",
     "text": [
      "Enter the number greater than 100:\n",
      "50\n",
      "oops! please enter the number greater or equal too 100\n",
      "Enter the number greater than 100:\n",
      "1\n",
      "oops! please enter the number greater or equal too 100\n",
      "Enter the number greater than 100:\n",
      "60\n",
      "oops! please enter the number greater or equal too 100\n",
      "Enter the number greater than 100:\n",
      "45\n",
      "oops! please enter the number greater or equal too 100\n",
      "Enter the number greater than 100:\n",
      "62\n",
      "oops! please enter the number greater or equal too 100\n",
      "Enter the number greater than 100:\n",
      "99\n",
      "oops! please enter the number greater or equal too 100\n",
      "Enter the number greater than 100:\n",
      "100\n",
      "bingo! You have entered the number greater than 100\n"
     ]
    }
   ],
   "source": [
    "i = 0\n",
    "while(True):\n",
    "    print(\"Enter the number greater than 100:\")\n",
    "    user_input = int(input())\n",
    "    if user_input < 100:\n",
    "        print(\"oops! please enter the number greater or equal too 100\")\n",
    "        i = i + 1\n",
    "        continue\n",
    "    if user_input >= 100:\n",
    "        print(\"bingo! You have entered the number greater than 100\")\n",
    "        break\n",
    "    i = i + 1"
   ]
  },
  {
   "cell_type": "code",
   "execution_count": 17,
   "metadata": {},
   "outputs": [
    {
     "data": {
      "text/plain": [
       "'C:\\\\Users\\\\faisa\\\\Python Exam'"
      ]
     },
     "execution_count": 17,
     "metadata": {},
     "output_type": "execute_result"
    }
   ],
   "source": [
    "pwd"
   ]
  },
  {
   "cell_type": "code",
   "execution_count": null,
   "metadata": {},
   "outputs": [],
   "source": []
  }
 ],
 "metadata": {
  "kernelspec": {
   "display_name": "Python 3",
   "language": "python",
   "name": "python3"
  },
  "language_info": {
   "codemirror_mode": {
    "name": "ipython",
    "version": 3
   },
   "file_extension": ".py",
   "mimetype": "text/x-python",
   "name": "python",
   "nbconvert_exporter": "python",
   "pygments_lexer": "ipython3",
   "version": "3.7.4"
  }
 },
 "nbformat": 4,
 "nbformat_minor": 2
}
